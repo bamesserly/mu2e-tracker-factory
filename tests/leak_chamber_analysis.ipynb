{
 "cells": [
  {
   "cell_type": "code",
   "execution_count": 1,
   "id": "31433d6b",
   "metadata": {},
   "outputs": [],
   "source": [
    "import pandas as pd\n",
    "from pathlib import Path\n",
    "import sys\n",
    "sys.path.append('/Users/Ben/Projects/mu2e-tracker-factory/')\n",
    "import matplotlib.pyplot as plt"
   ]
  },
  {
   "cell_type": "markdown",
   "id": "ec2d0a08",
   "metadata": {},
   "source": [
    "## Histogram of all leak tests -- one plot per chamber"
   ]
  },
  {
   "cell_type": "code",
   "execution_count": 61,
   "id": "c5733bbf",
   "metadata": {},
   "outputs": [
    {
     "name": "stdout",
     "output_type": "stream",
     "text": [
      "chamber 0\n",
      "chamber 1\n",
      "chamber 2\n",
      "chamber 3\n",
      "chamber 4\n",
      "chamber 5\n",
      "chamber 6\n",
      "chamber 7\n",
      "chamber 8\n",
      "chamber 9\n",
      "chamber 10\n",
      "chamber 11\n",
      "chamber 12\n",
      "chamber 13\n",
      "chamber 14\n",
      "chamber 15\n",
      "chamber 16\n",
      "chamber 17\n",
      "chamber 18\n",
      "chamber 19\n",
      "chamber 20\n",
      "chamber 21\n",
      "chamber 22\n",
      "chamber 23\n",
      "chamber 24\n",
      "{0: {'n_passing': 868, 'n_total': 1075, 'n_overflow': 50, 'median': 5.866e-05, 'mean': 0.00057903}, 1: {'n_passing': 772, 'n_total': 955, 'n_overflow': 41, 'median': 6.118e-05, 'mean': 0.00051951}, 2: {'n_passing': 746, 'n_total': 992, 'n_overflow': 52, 'median': 6.881e-05, 'mean': 0.00045329}, 3: {'n_passing': 730, 'n_total': 932, 'n_overflow': 36, 'median': 6.789e-05, 'mean': 0.0005132}, 4: {'n_passing': 693, 'n_total': 899, 'n_overflow': 25, 'median': 6.641e-05, 'mean': 0.00061985}, 5: {'n_passing': 436, 'n_total': 546, 'n_overflow': 19, 'median': 6.426e-05, 'mean': 0.00046163}, 6: {'n_passing': 225, 'n_total': 292, 'n_overflow': 15, 'median': 6.248e-05, 'mean': 0.00048795}, 7: {'n_passing': 440, 'n_total': 559, 'n_overflow': 28, 'median': 7.336e-05, 'mean': 0.00058166}, 8: {'n_passing': 357, 'n_total': 436, 'n_overflow': 18, 'median': 6.28e-05, 'mean': 0.00042052}, 9: {'n_passing': 457, 'n_total': 546, 'n_overflow': 18, 'median': 6.143e-05, 'mean': 0.00044819}, 10: {'n_passing': 737, 'n_total': 925, 'n_overflow': 53, 'median': 6.508e-05, 'mean': 0.00052973}, 11: {'n_passing': 755, 'n_total': 922, 'n_overflow': 44, 'median': 6.538e-05, 'mean': 0.00044363}, 12: {'n_passing': 709, 'n_total': 879, 'n_overflow': 34, 'median': 6.343e-05, 'mean': 0.00048511}, 13: {'n_passing': 699, 'n_total': 867, 'n_overflow': 53, 'median': 6.285e-05, 'mean': 0.00049265}, 14: {'n_passing': 527, 'n_total': 654, 'n_overflow': 19, 'median': 6.161e-05, 'mean': 0.0005528}, 15: {'n_passing': 407, 'n_total': 539, 'n_overflow': 20, 'median': 5.984e-05, 'mean': 0.00030784}, 16: {'n_passing': 92, 'n_total': 105, 'n_overflow': 1, 'median': 6.422e-05, 'mean': 0.00013303}, 17: {'n_passing': 85, 'n_total': 98, 'n_overflow': 4, 'median': 5.947e-05, 'mean': 0.00027067}, 18: {'n_passing': 79, 'n_total': 94, 'n_overflow': 2, 'median': 5.868e-05, 'mean': 0.00047968}, 19: {'n_passing': 517, 'n_total': 666, 'n_overflow': 17, 'median': 7.051e-05, 'mean': 0.00046661}, 20: {'n_passing': 614, 'n_total': 775, 'n_overflow': 39, 'median': 6.347e-05, 'mean': 0.00058395}, 21: {'n_passing': 603, 'n_total': 749, 'n_overflow': 42, 'median': 6.244e-05, 'mean': 0.00045187}, 22: {'n_passing': 583, 'n_total': 733, 'n_overflow': 38, 'median': 6.526e-05, 'mean': 0.00040084}, 23: {'n_passing': 485, 'n_total': 622, 'n_overflow': 24, 'median': 6.623e-05, 'mean': 0.00048577}, 24: {'n_passing': 453, 'n_total': 570, 'n_overflow': 19, 'median': 6.332e-05, 'mean': 0.00059018}}\n"
     ]
    }
   ],
   "source": [
    "leak_file = Path(\"all_leak_tests_2022-06.csv\")\n",
    "assert leak_file.is_file()\n",
    "df = pd.read_csv(leak_file, sep=\",\")\n",
    "nchambers = 25\n",
    "chamber_data = {}\n",
    "for chamber in range(nchambers):\n",
    "    print('chamber', chamber)\n",
    "    fig, ax = plt.subplots(1, 1)\n",
    "    \n",
    "    # binning\n",
    "    bins = list(range(0,21))\n",
    "    bins = [x*1e-5 for x in bins]\n",
    "    #bins.append(20e-5)\n",
    "    bins.append(50e-5)\n",
    "    bins.append(200e-5) # add overflow bin\n",
    "    \n",
    "    # data for just this chamber\n",
    "    data = df[df.chamber == chamber]['rate']\n",
    "\n",
    "    # make the plot\n",
    "    result = data.hist(figsize=(14,7),bins=bins)\n",
    "    \n",
    "    # some properties of this hist\n",
    "    bin_contents = data.squeeze().value_counts(bins=bins).sort_index()\n",
    "    ymax = ax.get_ylim()[1]\n",
    "    mean = round(data.mean(),8)\n",
    "    median = round(data.median(), 8)\n",
    "\n",
    "    # median/mean line:\n",
    "    plt.axvline(median, color='k', linewidth=1)\n",
    "    ax.text(median+0.5e-5, 0.8*ymax, f\"Median = {median}\", fontsize=15,color='k')\n",
    "\n",
    "    # pass/fail line\n",
    "    plt.axvline(9.6e-5, color='r', linewidth=1)\n",
    "    plt.text(10.e-5, 0.5*ymax, \"pass threshold = 9.6e-5 sccm\", fontsize = 15,color='r')\n",
    "    \n",
    "    # overflow\n",
    "    n_overflow = bin_contents.iat[-1]\n",
    "    plt.text(46.e-5,0.25*ymax,f\"Overflow\\n{n_overflow}\",fontsize=15)\n",
    "    overflow_rate = round(n_overflow/data.count(),4)\n",
    "    \n",
    "    # passing\n",
    "    n_passing = bin_contents[:10].sum()\n",
    "    pass_rate = round(n_passing/data.count(),4)\n",
    "\n",
    "    # n total tests\n",
    "    chamber_data[chamber] = {}\n",
    "    chamber_data[chamber][\"n_passing\"] = n_passing\n",
    "    chamber_data[chamber][\"n_total\"] = data.count()\n",
    "    chamber_data[chamber][\"n_overflow\"] = n_overflow\n",
    "    chamber_data[chamber][\"median\"] = median\n",
    "    chamber_data[chamber][\"mean\"] = mean\n",
    "    plt.text(40.e-5, 0.95*ymax, f\"n total tests = {data.count()}\", fontsize = 15,color='k')\n",
    "    plt.text(40.e-5, 0.90*ymax, f\"overflow % = {round(overflow_rate*100,3)}%\", fontsize = 15,color='k')\n",
    "    plt.text(40.e-5, 0.85*ymax, f\"pass % = {round(pass_rate*100,3)}%\", fontsize = 15,color='k')\n",
    "    \n",
    "    ax.set_xlim((0,51e-5))\n",
    "    #ax.set_ylim((0,25))\n",
    "    #ax.set_yscale(\"log\")\n",
    "    ax.set_ylabel(\"n tests\",fontsize=25)\n",
    "    ax.set_xlabel(\"leak rate (sccm)\",fontsize=25)\n",
    "    ax.set_title(f'All Straw Leak Tests\\nChamber {chamber}',fontsize=25)\n",
    "    fig.savefig(f\"leak_tests_all_Chamber{chamber}.png\")\n",
    "    plt.close(fig)\n",
    "print(chamber_data)"
   ]
  },
  {
   "cell_type": "code",
   "execution_count": 125,
   "id": "494df0de",
   "metadata": {},
   "outputs": [],
   "source": [
    "# other things to look at\n",
    "# measure of \"gaussian-ness\"\n",
    "# std dev\n",
    "# error (probably not useful)"
   ]
  }
 ],
 "metadata": {
  "kernelspec": {
   "display_name": "Python 3",
   "language": "python",
   "name": "python3"
  },
  "language_info": {
   "codemirror_mode": {
    "name": "ipython",
    "version": 3
   },
   "file_extension": ".py",
   "mimetype": "text/x-python",
   "name": "python",
   "nbconvert_exporter": "python",
   "pygments_lexer": "ipython3",
   "version": "3.7.13"
  }
 },
 "nbformat": 4,
 "nbformat_minor": 5
}
