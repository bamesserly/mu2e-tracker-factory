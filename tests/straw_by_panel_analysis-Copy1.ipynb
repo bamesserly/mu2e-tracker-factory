{
 "cells": [
  {
   "cell_type": "markdown",
   "metadata": {},
   "source": [
    "# Many straw studies\n",
    "#"
   ]
  },
  {
   "cell_type": "code",
   "execution_count": null,
   "metadata": {},
   "outputs": [],
   "source": [
    "import pandas as pd\n",
    "from pathlib import Path\n",
    "import sys\n",
    "sys.path.append('/Users/Ben/Projects/mu2e-tracker-factory/')\n",
    "import matplotlib.pyplot as plt\n",
    "from numpy.testing import suppress_warnings\n",
    "from numpy import ComplexWarning"
   ]
  },
  {
   "cell_type": "code",
   "execution_count": null,
   "metadata": {},
   "outputs": [],
   "source": [
    "leak_file = Path(\"all_leak_tests_2022-06.csv\")\n",
    "assert leak_file.is_file()\n",
    "df = pd.read_csv(leak_file, sep=\",\")"
   ]
  },
  {
   "cell_type": "markdown",
   "metadata": {},
   "source": [
    "## Merge the straws-by-panel df with the leak rate-by-straw df"
   ]
  },
  {
   "cell_type": "code",
   "execution_count": 19,
   "metadata": {},
   "outputs": [],
   "source": [
    "final_df = straws_df.merge(df, on=['straw'], how = 'left')"
   ]
  },
  {
   "cell_type": "code",
   "execution_count": 20,
   "metadata": {},
   "outputs": [],
   "source": [
    "df.to_csv(\"all_straw_info_MN173_MN235.csv\")"
   ]
  },
  {
   "cell_type": "code",
   "execution_count": 21,
   "metadata": {
    "collapsed": true
   },
   "outputs": [
    {
     "data": {
      "text/html": [
       "<div>\n",
       "<style scoped>\n",
       "    .dataframe tbody tr th:only-of-type {\n",
       "        vertical-align: middle;\n",
       "    }\n",
       "\n",
       "    .dataframe tbody tr th {\n",
       "        vertical-align: top;\n",
       "    }\n",
       "\n",
       "    .dataframe thead th {\n",
       "        text-align: right;\n",
       "    }\n",
       "</style>\n",
       "<table border=\"1\" class=\"dataframe\">\n",
       "  <thead>\n",
       "    <tr style=\"text-align: right;\">\n",
       "      <th></th>\n",
       "      <th>number</th>\n",
       "      <th>position_number</th>\n",
       "      <th>straw</th>\n",
       "      <th>batch</th>\n",
       "      <th>paper_pull_grade</th>\n",
       "      <th>leak_data_file</th>\n",
       "      <th>rate</th>\n",
       "      <th>rate_err</th>\n",
       "      <th>status</th>\n",
       "    </tr>\n",
       "  </thead>\n",
       "  <tbody>\n",
       "    <tr>\n",
       "      <th>0</th>\n",
       "      <td>173</td>\n",
       "      <td>0</td>\n",
       "      <td>20615</td>\n",
       "      <td>NaN</td>\n",
       "      <td>NaN</td>\n",
       "      <td>/Users/Ben/Home/Working/mu2e-tracker-factory/d...</td>\n",
       "      <td>0.000072</td>\n",
       "      <td>0.000007+0.000000j</td>\n",
       "      <td>PassFailStatus.PASS</td>\n",
       "    </tr>\n",
       "    <tr>\n",
       "      <th>1</th>\n",
       "      <td>173</td>\n",
       "      <td>1</td>\n",
       "      <td>20759</td>\n",
       "      <td>120417B2</td>\n",
       "      <td>A</td>\n",
       "      <td>/Users/Ben/Home/Working/mu2e-tracker-factory/d...</td>\n",
       "      <td>0.000100</td>\n",
       "      <td>0.000007+0.000000j</td>\n",
       "      <td>PassFailStatus.FAIL</td>\n",
       "    </tr>\n",
       "    <tr>\n",
       "      <th>2</th>\n",
       "      <td>173</td>\n",
       "      <td>11</td>\n",
       "      <td>20474</td>\n",
       "      <td>NaN</td>\n",
       "      <td>NaN</td>\n",
       "      <td>/Users/Ben/Home/Working/mu2e-tracker-factory/d...</td>\n",
       "      <td>0.000053</td>\n",
       "      <td>0.000008+0.000000j</td>\n",
       "      <td>PassFailStatus.PASS</td>\n",
       "    </tr>\n",
       "    <tr>\n",
       "      <th>3</th>\n",
       "      <td>173</td>\n",
       "      <td>12</td>\n",
       "      <td>20612</td>\n",
       "      <td>NaN</td>\n",
       "      <td>NaN</td>\n",
       "      <td>/Users/Ben/Home/Working/mu2e-tracker-factory/d...</td>\n",
       "      <td>0.000072</td>\n",
       "      <td>0.000008+0.000000j</td>\n",
       "      <td>PassFailStatus.PASS</td>\n",
       "    </tr>\n",
       "    <tr>\n",
       "      <th>4</th>\n",
       "      <td>173</td>\n",
       "      <td>13</td>\n",
       "      <td>20756</td>\n",
       "      <td>120417B2</td>\n",
       "      <td>A</td>\n",
       "      <td>/Users/Ben/Home/Working/mu2e-tracker-factory/d...</td>\n",
       "      <td>0.000074</td>\n",
       "      <td>0.000008+0.000000j</td>\n",
       "      <td>PassFailStatus.PASS</td>\n",
       "    </tr>\n",
       "    <tr>\n",
       "      <th>...</th>\n",
       "      <td>...</td>\n",
       "      <td>...</td>\n",
       "      <td>...</td>\n",
       "      <td>...</td>\n",
       "      <td>...</td>\n",
       "      <td>...</td>\n",
       "      <td>...</td>\n",
       "      <td>...</td>\n",
       "      <td>...</td>\n",
       "    </tr>\n",
       "    <tr>\n",
       "      <th>4424</th>\n",
       "      <td>237</td>\n",
       "      <td>91</td>\n",
       "      <td>28380</td>\n",
       "      <td>082814B3</td>\n",
       "      <td>A</td>\n",
       "      <td>NaN</td>\n",
       "      <td>NaN</td>\n",
       "      <td>N00000000a00000000N</td>\n",
       "      <td>NaN</td>\n",
       "    </tr>\n",
       "    <tr>\n",
       "      <th>4425</th>\n",
       "      <td>237</td>\n",
       "      <td>92</td>\n",
       "      <td>54253</td>\n",
       "      <td>NaN</td>\n",
       "      <td>NaN</td>\n",
       "      <td>/Users/Ben/Home/Working/mu2e-tracker-factory/d...</td>\n",
       "      <td>0.000027</td>\n",
       "      <td>0.000007+0.000000j</td>\n",
       "      <td>PassFailStatus.PASS</td>\n",
       "    </tr>\n",
       "    <tr>\n",
       "      <th>4426</th>\n",
       "      <td>237</td>\n",
       "      <td>93</td>\n",
       "      <td>53112</td>\n",
       "      <td>NaN</td>\n",
       "      <td>NaN</td>\n",
       "      <td>NaN</td>\n",
       "      <td>NaN</td>\n",
       "      <td>N00000000a00000000N</td>\n",
       "      <td>NaN</td>\n",
       "    </tr>\n",
       "    <tr>\n",
       "      <th>4427</th>\n",
       "      <td>237</td>\n",
       "      <td>94</td>\n",
       "      <td>28410</td>\n",
       "      <td>082814B3</td>\n",
       "      <td>A</td>\n",
       "      <td>NaN</td>\n",
       "      <td>NaN</td>\n",
       "      <td>N00000000a00000000N</td>\n",
       "      <td>NaN</td>\n",
       "    </tr>\n",
       "    <tr>\n",
       "      <th>4428</th>\n",
       "      <td>237</td>\n",
       "      <td>95</td>\n",
       "      <td>28381</td>\n",
       "      <td>082814B3</td>\n",
       "      <td>A</td>\n",
       "      <td>NaN</td>\n",
       "      <td>NaN</td>\n",
       "      <td>N00000000a00000000N</td>\n",
       "      <td>NaN</td>\n",
       "    </tr>\n",
       "  </tbody>\n",
       "</table>\n",
       "<p>4429 rows × 9 columns</p>\n",
       "</div>"
      ],
      "text/plain": [
       "      number  position_number  straw     batch paper_pull_grade  \\\n",
       "0        173                0  20615       NaN              NaN   \n",
       "1        173                1  20759  120417B2                A   \n",
       "2        173               11  20474       NaN              NaN   \n",
       "3        173               12  20612       NaN              NaN   \n",
       "4        173               13  20756  120417B2                A   \n",
       "...      ...              ...    ...       ...              ...   \n",
       "4424     237               91  28380  082814B3                A   \n",
       "4425     237               92  54253       NaN              NaN   \n",
       "4426     237               93  53112       NaN              NaN   \n",
       "4427     237               94  28410  082814B3                A   \n",
       "4428     237               95  28381  082814B3                A   \n",
       "\n",
       "                                         leak_data_file      rate  \\\n",
       "0     /Users/Ben/Home/Working/mu2e-tracker-factory/d...  0.000072   \n",
       "1     /Users/Ben/Home/Working/mu2e-tracker-factory/d...  0.000100   \n",
       "2     /Users/Ben/Home/Working/mu2e-tracker-factory/d...  0.000053   \n",
       "3     /Users/Ben/Home/Working/mu2e-tracker-factory/d...  0.000072   \n",
       "4     /Users/Ben/Home/Working/mu2e-tracker-factory/d...  0.000074   \n",
       "...                                                 ...       ...   \n",
       "4424                                                NaN       NaN   \n",
       "4425  /Users/Ben/Home/Working/mu2e-tracker-factory/d...  0.000027   \n",
       "4426                                                NaN       NaN   \n",
       "4427                                                NaN       NaN   \n",
       "4428                                                NaN       NaN   \n",
       "\n",
       "                rate_err               status  \n",
       "0     0.000007+0.000000j  PassFailStatus.PASS  \n",
       "1     0.000007+0.000000j  PassFailStatus.FAIL  \n",
       "2     0.000008+0.000000j  PassFailStatus.PASS  \n",
       "3     0.000008+0.000000j  PassFailStatus.PASS  \n",
       "4     0.000008+0.000000j  PassFailStatus.PASS  \n",
       "...                  ...                  ...  \n",
       "4424 N00000000a00000000N                  NaN  \n",
       "4425  0.000007+0.000000j  PassFailStatus.PASS  \n",
       "4426 N00000000a00000000N                  NaN  \n",
       "4427 N00000000a00000000N                  NaN  \n",
       "4428 N00000000a00000000N                  NaN  \n",
       "\n",
       "[4429 rows x 9 columns]"
      ]
     },
     "execution_count": 21,
     "metadata": {},
     "output_type": "execute_result"
    }
   ],
   "source": [
    "final_df"
   ]
  },
  {
   "cell_type": "markdown",
   "metadata": {},
   "source": [
    "## for straws without leak rates, see if their daughter has a leak rate\n",
    "### TODO"
   ]
  },
  {
   "cell_type": "code",
   "execution_count": 22,
   "metadata": {},
   "outputs": [],
   "source": [
    "from numpy import nan"
   ]
  },
  {
   "cell_type": "code",
   "execution_count": null,
   "metadata": {},
   "outputs": [],
   "source": [
    "# select straws without leak rates\n",
    "final_df[final_df['rate'].isna()]\n",
    "\n",
    "# drop straws without leak rates\n",
    "test_df = final_df[final_df['rate'].notna()]\n",
    "\n",
    "# get batch, leak info from parent, which = daughter_straw_no - 30000"
   ]
  },
  {
   "cell_type": "markdown",
   "metadata": {},
   "source": [
    "## Sum leak rates by panel"
   ]
  },
  {
   "cell_type": "code",
   "execution_count": null,
   "metadata": {},
   "outputs": [],
   "source": [
    "fig, ax = plt.subplots(1, 1)\n",
    "final_df.groupby(['number'])['rate'].sum().plot(kind=\"bar\", figsize=(15,8),ax=ax)\n",
    "ax.set_ylabel(\"integrated straw leaks\",fontsize=20)\n",
    "ax.set_xlabel(\"panel\",fontsize=20)\n",
    "#ax.set_title(\"all panels\",fontsize=25)\n",
    "fig.savefig(f\"summed_straw_leaks_by_panel_2.png\")\n",
    "plt.close(fig)"
   ]
  },
  {
   "cell_type": "markdown",
   "metadata": {},
   "source": [
    "## Mean leak rates by panel"
   ]
  },
  {
   "cell_type": "code",
   "execution_count": null,
   "metadata": {},
   "outputs": [],
   "source": [
    "fig, ax = plt.subplots(1, 1)\n",
    "ax = final_df.groupby(['number'])['rate'].mean().plot(kind=\"bar\", figsize=(15,8))\n",
    "ax.set_ylabel(\"mean straw leak rate\",fontsize=20)\n",
    "ax.set_xlabel(\"panel\",fontsize=20)\n",
    "fig.savefig(f\"mean_straw_leak_rate_per_panel_2.png\")\n",
    "plt.close()"
   ]
  },
  {
   "cell_type": "markdown",
   "metadata": {},
   "source": [
    "## Median leak rates by panel"
   ]
  },
  {
   "cell_type": "code",
   "execution_count": null,
   "metadata": {},
   "outputs": [],
   "source": [
    "fig, ax = plt.subplots(1, 1)\n",
    "ax = final_df.groupby(['number'])['rate'].median().plot(kind=\"bar\", figsize=(15,8))\n",
    "ax.set_ylabel(\"median straw leak rate\",fontsize=20)\n",
    "ax.set_xlabel(\"panel\",fontsize=20)\n",
    "fig.savefig(f\"median_straw_leak_rate_per_panel_2.png\")\n",
    "plt.close()"
   ]
  },
  {
   "cell_type": "markdown",
   "metadata": {},
   "source": [
    "## all straw leaks across all panels\n",
    "#### TODO make this a heat map/histogram"
   ]
  },
  {
   "cell_type": "code",
   "execution_count": 23,
   "metadata": {},
   "outputs": [],
   "source": [
    "fig, ax = plt.subplots(1, 1)\n",
    "final_df.plot.scatter(ax = ax, x='position_number',y='rate',ylim=(-2e-5,22e-5),figsize=(15,10))\n",
    "ax.set_ylabel(\"individual straw leak rate\",fontsize=25)\n",
    "ax.set_xlabel(\"straw position on panel\",fontsize=25)\n",
    "ax.set_title(\"all panels\",fontsize=25)\n",
    "fig.savefig(f\"all_straw_leaks_by_position.png\")\n",
    "plt.close(fig)"
   ]
  },
  {
   "cell_type": "code",
   "execution_count": 32,
   "metadata": {},
   "outputs": [],
   "source": [
    "yvals=final_df['rate'].to_numpy()\n",
    "xvals=final_df['position_number'].to_numpy()"
   ]
  },
  {
   "cell_type": "code",
   "execution_count": 35,
   "metadata": {
    "scrolled": true
   },
   "outputs": [
    {
     "ename": "ValueError",
     "evalue": "x and y arguments to pcolormesh cannot have non-finite values or be of type numpy.ma.core.MaskedArray with masked values",
     "output_type": "error",
     "traceback": [
      "\u001b[0;31m---------------------------------------------------------------------------\u001b[0m",
      "\u001b[0;31mValueError\u001b[0m                                Traceback (most recent call last)",
      "\u001b[0;32m/var/folders/wp/_fng4ppn01b2j4_j98240s780000gn/T/ipykernel_65974/2942357984.py\u001b[0m in \u001b[0;36m<module>\u001b[0;34m\u001b[0m\n\u001b[1;32m     11\u001b[0m \u001b[0my_bins\u001b[0m \u001b[0;34m=\u001b[0m \u001b[0mnp\u001b[0m\u001b[0;34m.\u001b[0m\u001b[0mlinspace\u001b[0m\u001b[0;34m(\u001b[0m\u001b[0my_min\u001b[0m\u001b[0;34m,\u001b[0m \u001b[0my_max\u001b[0m\u001b[0;34m,\u001b[0m \u001b[0;36m20\u001b[0m\u001b[0;34m)\u001b[0m\u001b[0;34m\u001b[0m\u001b[0;34m\u001b[0m\u001b[0m\n\u001b[1;32m     12\u001b[0m \u001b[0;34m\u001b[0m\u001b[0m\n\u001b[0;32m---> 13\u001b[0;31m \u001b[0max\u001b[0m\u001b[0;34m.\u001b[0m\u001b[0mhist2d\u001b[0m\u001b[0;34m(\u001b[0m\u001b[0mxvals\u001b[0m\u001b[0;34m,\u001b[0m\u001b[0myvals\u001b[0m\u001b[0;34m,\u001b[0m\u001b[0mbins\u001b[0m\u001b[0;34m=\u001b[0m\u001b[0;34m[\u001b[0m\u001b[0mx_bins\u001b[0m\u001b[0;34m,\u001b[0m \u001b[0my_bins\u001b[0m\u001b[0;34m]\u001b[0m\u001b[0;34m)\u001b[0m\u001b[0;34m\u001b[0m\u001b[0;34m\u001b[0m\u001b[0m\n\u001b[0m\u001b[1;32m     14\u001b[0m \u001b[0;31m#ax.hist2d(final_df.position_number, final_df.rate, bins=100)\u001b[0m\u001b[0;34m\u001b[0m\u001b[0;34m\u001b[0m\u001b[0;34m\u001b[0m\u001b[0m\n\u001b[1;32m     15\u001b[0m \u001b[0;31m#final_df.plot.hist2d(ax = ax, x='position_number',y='rate') #,ylim=(-2e-5,22e-5),figsize=(15,10))\u001b[0m\u001b[0;34m\u001b[0m\u001b[0;34m\u001b[0m\u001b[0;34m\u001b[0m\u001b[0m\n",
      "\u001b[0;32m~/miniconda3/envs/mu2e_env/lib/python3.7/site-packages/matplotlib/__init__.py\u001b[0m in \u001b[0;36minner\u001b[0;34m(ax, data, *args, **kwargs)\u001b[0m\n\u001b[1;32m   1410\u001b[0m     \u001b[0;32mdef\u001b[0m \u001b[0minner\u001b[0m\u001b[0;34m(\u001b[0m\u001b[0max\u001b[0m\u001b[0;34m,\u001b[0m \u001b[0;34m*\u001b[0m\u001b[0margs\u001b[0m\u001b[0;34m,\u001b[0m \u001b[0mdata\u001b[0m\u001b[0;34m=\u001b[0m\u001b[0;32mNone\u001b[0m\u001b[0;34m,\u001b[0m \u001b[0;34m**\u001b[0m\u001b[0mkwargs\u001b[0m\u001b[0;34m)\u001b[0m\u001b[0;34m:\u001b[0m\u001b[0;34m\u001b[0m\u001b[0;34m\u001b[0m\u001b[0m\n\u001b[1;32m   1411\u001b[0m         \u001b[0;32mif\u001b[0m \u001b[0mdata\u001b[0m \u001b[0;32mis\u001b[0m \u001b[0;32mNone\u001b[0m\u001b[0;34m:\u001b[0m\u001b[0;34m\u001b[0m\u001b[0;34m\u001b[0m\u001b[0m\n\u001b[0;32m-> 1412\u001b[0;31m             \u001b[0;32mreturn\u001b[0m \u001b[0mfunc\u001b[0m\u001b[0;34m(\u001b[0m\u001b[0max\u001b[0m\u001b[0;34m,\u001b[0m \u001b[0;34m*\u001b[0m\u001b[0mmap\u001b[0m\u001b[0;34m(\u001b[0m\u001b[0msanitize_sequence\u001b[0m\u001b[0;34m,\u001b[0m \u001b[0margs\u001b[0m\u001b[0;34m)\u001b[0m\u001b[0;34m,\u001b[0m \u001b[0;34m**\u001b[0m\u001b[0mkwargs\u001b[0m\u001b[0;34m)\u001b[0m\u001b[0;34m\u001b[0m\u001b[0;34m\u001b[0m\u001b[0m\n\u001b[0m\u001b[1;32m   1413\u001b[0m \u001b[0;34m\u001b[0m\u001b[0m\n\u001b[1;32m   1414\u001b[0m         \u001b[0mbound\u001b[0m \u001b[0;34m=\u001b[0m \u001b[0mnew_sig\u001b[0m\u001b[0;34m.\u001b[0m\u001b[0mbind\u001b[0m\u001b[0;34m(\u001b[0m\u001b[0max\u001b[0m\u001b[0;34m,\u001b[0m \u001b[0;34m*\u001b[0m\u001b[0margs\u001b[0m\u001b[0;34m,\u001b[0m \u001b[0;34m**\u001b[0m\u001b[0mkwargs\u001b[0m\u001b[0;34m)\u001b[0m\u001b[0;34m\u001b[0m\u001b[0;34m\u001b[0m\u001b[0m\n",
      "\u001b[0;32m~/miniconda3/envs/mu2e_env/lib/python3.7/site-packages/matplotlib/axes/_axes.py\u001b[0m in \u001b[0;36mhist2d\u001b[0;34m(self, x, y, bins, range, density, weights, cmin, cmax, **kwargs)\u001b[0m\n\u001b[1;32m   6986\u001b[0m             \u001b[0mh\u001b[0m\u001b[0;34m[\u001b[0m\u001b[0mh\u001b[0m \u001b[0;34m>\u001b[0m \u001b[0mcmax\u001b[0m\u001b[0;34m]\u001b[0m \u001b[0;34m=\u001b[0m \u001b[0;32mNone\u001b[0m\u001b[0;34m\u001b[0m\u001b[0;34m\u001b[0m\u001b[0m\n\u001b[1;32m   6987\u001b[0m \u001b[0;34m\u001b[0m\u001b[0m\n\u001b[0;32m-> 6988\u001b[0;31m         \u001b[0mpc\u001b[0m \u001b[0;34m=\u001b[0m \u001b[0mself\u001b[0m\u001b[0;34m.\u001b[0m\u001b[0mpcolormesh\u001b[0m\u001b[0;34m(\u001b[0m\u001b[0mxedges\u001b[0m\u001b[0;34m,\u001b[0m \u001b[0myedges\u001b[0m\u001b[0;34m,\u001b[0m \u001b[0mh\u001b[0m\u001b[0;34m.\u001b[0m\u001b[0mT\u001b[0m\u001b[0;34m,\u001b[0m \u001b[0;34m**\u001b[0m\u001b[0mkwargs\u001b[0m\u001b[0;34m)\u001b[0m\u001b[0;34m\u001b[0m\u001b[0;34m\u001b[0m\u001b[0m\n\u001b[0m\u001b[1;32m   6989\u001b[0m         \u001b[0mself\u001b[0m\u001b[0;34m.\u001b[0m\u001b[0mset_xlim\u001b[0m\u001b[0;34m(\u001b[0m\u001b[0mxedges\u001b[0m\u001b[0;34m[\u001b[0m\u001b[0;36m0\u001b[0m\u001b[0;34m]\u001b[0m\u001b[0;34m,\u001b[0m \u001b[0mxedges\u001b[0m\u001b[0;34m[\u001b[0m\u001b[0;34m-\u001b[0m\u001b[0;36m1\u001b[0m\u001b[0;34m]\u001b[0m\u001b[0;34m)\u001b[0m\u001b[0;34m\u001b[0m\u001b[0;34m\u001b[0m\u001b[0m\n\u001b[1;32m   6990\u001b[0m         \u001b[0mself\u001b[0m\u001b[0;34m.\u001b[0m\u001b[0mset_ylim\u001b[0m\u001b[0;34m(\u001b[0m\u001b[0myedges\u001b[0m\u001b[0;34m[\u001b[0m\u001b[0;36m0\u001b[0m\u001b[0;34m]\u001b[0m\u001b[0;34m,\u001b[0m \u001b[0myedges\u001b[0m\u001b[0;34m[\u001b[0m\u001b[0;34m-\u001b[0m\u001b[0;36m1\u001b[0m\u001b[0;34m]\u001b[0m\u001b[0;34m)\u001b[0m\u001b[0;34m\u001b[0m\u001b[0;34m\u001b[0m\u001b[0m\n",
      "\u001b[0;32m~/miniconda3/envs/mu2e_env/lib/python3.7/site-packages/matplotlib/__init__.py\u001b[0m in \u001b[0;36minner\u001b[0;34m(ax, data, *args, **kwargs)\u001b[0m\n\u001b[1;32m   1410\u001b[0m     \u001b[0;32mdef\u001b[0m \u001b[0minner\u001b[0m\u001b[0;34m(\u001b[0m\u001b[0max\u001b[0m\u001b[0;34m,\u001b[0m \u001b[0;34m*\u001b[0m\u001b[0margs\u001b[0m\u001b[0;34m,\u001b[0m \u001b[0mdata\u001b[0m\u001b[0;34m=\u001b[0m\u001b[0;32mNone\u001b[0m\u001b[0;34m,\u001b[0m \u001b[0;34m**\u001b[0m\u001b[0mkwargs\u001b[0m\u001b[0;34m)\u001b[0m\u001b[0;34m:\u001b[0m\u001b[0;34m\u001b[0m\u001b[0;34m\u001b[0m\u001b[0m\n\u001b[1;32m   1411\u001b[0m         \u001b[0;32mif\u001b[0m \u001b[0mdata\u001b[0m \u001b[0;32mis\u001b[0m \u001b[0;32mNone\u001b[0m\u001b[0;34m:\u001b[0m\u001b[0;34m\u001b[0m\u001b[0;34m\u001b[0m\u001b[0m\n\u001b[0;32m-> 1412\u001b[0;31m             \u001b[0;32mreturn\u001b[0m \u001b[0mfunc\u001b[0m\u001b[0;34m(\u001b[0m\u001b[0max\u001b[0m\u001b[0;34m,\u001b[0m \u001b[0;34m*\u001b[0m\u001b[0mmap\u001b[0m\u001b[0;34m(\u001b[0m\u001b[0msanitize_sequence\u001b[0m\u001b[0;34m,\u001b[0m \u001b[0margs\u001b[0m\u001b[0;34m)\u001b[0m\u001b[0;34m,\u001b[0m \u001b[0;34m**\u001b[0m\u001b[0mkwargs\u001b[0m\u001b[0;34m)\u001b[0m\u001b[0;34m\u001b[0m\u001b[0;34m\u001b[0m\u001b[0m\n\u001b[0m\u001b[1;32m   1413\u001b[0m \u001b[0;34m\u001b[0m\u001b[0m\n\u001b[1;32m   1414\u001b[0m         \u001b[0mbound\u001b[0m \u001b[0;34m=\u001b[0m \u001b[0mnew_sig\u001b[0m\u001b[0;34m.\u001b[0m\u001b[0mbind\u001b[0m\u001b[0;34m(\u001b[0m\u001b[0max\u001b[0m\u001b[0;34m,\u001b[0m \u001b[0;34m*\u001b[0m\u001b[0margs\u001b[0m\u001b[0;34m,\u001b[0m \u001b[0;34m**\u001b[0m\u001b[0mkwargs\u001b[0m\u001b[0;34m)\u001b[0m\u001b[0;34m\u001b[0m\u001b[0;34m\u001b[0m\u001b[0m\n",
      "\u001b[0;32m~/miniconda3/envs/mu2e_env/lib/python3.7/site-packages/matplotlib/axes/_axes.py\u001b[0m in \u001b[0;36mpcolormesh\u001b[0;34m(self, alpha, norm, cmap, vmin, vmax, shading, antialiased, *args, **kwargs)\u001b[0m\n\u001b[1;32m   6061\u001b[0m \u001b[0;34m\u001b[0m\u001b[0m\n\u001b[1;32m   6062\u001b[0m         X, Y, C, shading = self._pcolorargs('pcolormesh', *args,\n\u001b[0;32m-> 6063\u001b[0;31m                                             shading=shading, kwargs=kwargs)\n\u001b[0m\u001b[1;32m   6064\u001b[0m         \u001b[0mcoords\u001b[0m \u001b[0;34m=\u001b[0m \u001b[0mnp\u001b[0m\u001b[0;34m.\u001b[0m\u001b[0mstack\u001b[0m\u001b[0;34m(\u001b[0m\u001b[0;34m[\u001b[0m\u001b[0mX\u001b[0m\u001b[0;34m,\u001b[0m \u001b[0mY\u001b[0m\u001b[0;34m]\u001b[0m\u001b[0;34m,\u001b[0m \u001b[0maxis\u001b[0m\u001b[0;34m=\u001b[0m\u001b[0;34m-\u001b[0m\u001b[0;36m1\u001b[0m\u001b[0;34m)\u001b[0m\u001b[0;34m\u001b[0m\u001b[0;34m\u001b[0m\u001b[0m\n\u001b[1;32m   6065\u001b[0m         \u001b[0;31m# convert to one dimensional array\u001b[0m\u001b[0;34m\u001b[0m\u001b[0;34m\u001b[0m\u001b[0;34m\u001b[0m\u001b[0m\n",
      "\u001b[0;32m~/miniconda3/envs/mu2e_env/lib/python3.7/site-packages/matplotlib/axes/_axes.py\u001b[0m in \u001b[0;36m_pcolorargs\u001b[0;34m(self, funcname, shading, *args, **kwargs)\u001b[0m\n\u001b[1;32m   5539\u001b[0m                 \u001b[0;32mif\u001b[0m \u001b[0mnp\u001b[0m\u001b[0;34m.\u001b[0m\u001b[0mma\u001b[0m\u001b[0;34m.\u001b[0m\u001b[0mis_masked\u001b[0m\u001b[0;34m(\u001b[0m\u001b[0mX\u001b[0m\u001b[0;34m)\u001b[0m \u001b[0;32mor\u001b[0m \u001b[0mnp\u001b[0m\u001b[0;34m.\u001b[0m\u001b[0mma\u001b[0m\u001b[0;34m.\u001b[0m\u001b[0mis_masked\u001b[0m\u001b[0;34m(\u001b[0m\u001b[0mY\u001b[0m\u001b[0;34m)\u001b[0m\u001b[0;34m:\u001b[0m\u001b[0;34m\u001b[0m\u001b[0;34m\u001b[0m\u001b[0m\n\u001b[1;32m   5540\u001b[0m                     raise ValueError(\n\u001b[0;32m-> 5541\u001b[0;31m                         \u001b[0;34m'x and y arguments to pcolormesh cannot have '\u001b[0m\u001b[0;34m\u001b[0m\u001b[0;34m\u001b[0m\u001b[0m\n\u001b[0m\u001b[1;32m   5542\u001b[0m                         \u001b[0;34m'non-finite values or be of type '\u001b[0m\u001b[0;34m\u001b[0m\u001b[0;34m\u001b[0m\u001b[0m\n\u001b[1;32m   5543\u001b[0m                         'numpy.ma.core.MaskedArray with masked values')\n",
      "\u001b[0;31mValueError\u001b[0m: x and y arguments to pcolormesh cannot have non-finite values or be of type numpy.ma.core.MaskedArray with masked values"
     ]
    },
    {
     "data": {
      "image/png": "[encoded data removed]",
      "text/plain": [
       "<Figure size 432x288 with 1 Axes>"
      ]
     },
     "metadata": {
      "needs_background": "light"
     },
     "output_type": "display_data"
    }
   ],
   "source": [
    "import numpy as np\n",
    "fig, ax = plt.subplots(1, 1)\n",
    "# Creating bins\n",
    "x_min = np.min(xvals)\n",
    "x_max = np.max(xvals)\n",
    "  \n",
    "y_min = np.min(yvals)\n",
    "y_max = np.max(yvals)\n",
    "  \n",
    "x_bins = np.linspace(x_min, x_max, 50)\n",
    "y_bins = np.linspace(y_min, y_max, 20)\n",
    "\n",
    "ax.hist2d(xvals,yvals,bins=[x_bins, y_bins])\n",
    "#ax.hist2d(final_df.position_number, final_df.rate, bins=100)\n",
    "#final_df.plot.hist2d(ax = ax, x='position_number',y='rate') #,ylim=(-2e-5,22e-5),figsize=(15,10))\n",
    "#axes[0, 0].hist2d(data[:, 0], data[:, 1], bins=100)"
   ]
  },
  {
   "cell_type": "code",
   "execution_count": null,
   "metadata": {},
   "outputs": [],
   "source": [
    "#final_df[final_df['number']==192][['pos','rate']]"
   ]
  },
  {
   "cell_type": "markdown",
   "metadata": {},
   "source": [
    "## straw leaks by panel vs straw position"
   ]
  },
  {
   "cell_type": "code",
   "execution_count": null,
   "metadata": {},
   "outputs": [],
   "source": [
    "for panel in range(173,175):\n",
    "    fig, ax = plt.subplots(1, 1)\n",
    "    try:\n",
    "        with suppress_warnings() as sup:\n",
    "            sup.filter(ComplexWarning)\n",
    "            # bar\n",
    "            final_df[final_df['number']==panel][['position_number','rate','rate_err']].plot(\n",
    "                x='position_number',y='rate',\n",
    "                yerr='rate_err',\n",
    "                kind=\"bar\", \n",
    "                figsize=(20,10), ax = ax,ylim=(0,13e-5)\n",
    "            )\n",
    "            \n",
    "            # scatter (eww)\n",
    "            #final_df[final_df['number']==panel][['pos','rate','rate_err']].plot(\n",
    "            #    x='pos',y='rate',\n",
    "            #    yerr='rate_err',\n",
    "            #    kind=\"scatter\", \n",
    "            #    figsize=(20,10), ax = ax,ylim=(0,13e-5),s=60\n",
    "            #)\n",
    "    except TypeError:\n",
    "        print(\"NO DATA\",panel)\n",
    "        plt.close(fig)\n",
    "        continue\n",
    "    except ValueError:\n",
    "        print(\"problem?\",panel)\n",
    "        plt.close(fig)\n",
    "        continue\n",
    "    \n",
    "    # calculate mean\n",
    "    heights = final_df[final_df['number']==panel]['rate']\n",
    "    freq = heights.value_counts().sort_index()\n",
    "    freq_frame = freq.to_frame()\n",
    "    mean = round(heights.mean(),8)\n",
    "    median = heights.median()\n",
    "    \n",
    "    ax.set_ylabel(\"individual straw leak rate\",fontsize=25)\n",
    "    ax.set_xlabel(\"straw position on panel\",fontsize=25)\n",
    "    ax.set_title(f'MN{panel} (mean={mean})',fontsize=25)\n",
    "    fig.savefig(f\"MN{panel}_bar.png\")\n",
    "    plt.close(fig)"
   ]
  },
  {
   "cell_type": "markdown",
   "metadata": {},
   "source": [
    "## Straw leaks by panel vs leak rate histogram"
   ]
  },
  {
   "cell_type": "code",
   "execution_count": null,
   "metadata": {},
   "outputs": [],
   "source": [
    "for panel in range(173,175):\n",
    "    fig, ax = plt.subplots(1, 1)\n",
    "    try:\n",
    "        with suppress_warnings() as sup:\n",
    "            sup.filter(ComplexWarning)\n",
    "            result = final_df[final_df.number == panel]['rate'].hist(figsize=(14,7),bins=12)\n",
    "    except TypeError:\n",
    "        print(\"NO DATA\",panel)\n",
    "        plt.close(fig)\n",
    "        continue\n",
    "    except ValueError:\n",
    "        print(\"problem?\",panel)\n",
    "        plt.close(fig)\n",
    "        continue\n",
    "\n",
    "    # calculate mean\n",
    "    heights = final_df[final_df['number']==panel]['rate']\n",
    "    freq = heights.value_counts().sort_index()\n",
    "    freq_frame = freq.to_frame()\n",
    "    mean = round(heights.mean(),8)\n",
    "    median = heights.median()\n",
    "\n",
    "    # mean line\n",
    "    plt.axvline(mean, color='k', linestyle='dashed', linewidth=1)\n",
    "    #plt.axvline(median, color='k', linestyle='dashed', linewidth=1)\n",
    "    ax.set_xlim((0,1e-4))\n",
    "    ax.set_ylim((0,25))\n",
    "    ax.set_ylabel(\"n straws\",fontsize=25)\n",
    "    ax.set_xlabel(\"leak rate (sccm)\",fontsize=25)\n",
    "    ax.set_title(f'MN{panel}',fontsize=25)\n",
    "    fig.savefig(f\"MN{panel}_leak_hist.png\")\n",
    "    plt.close(fig)"
   ]
  },
  {
   "cell_type": "markdown",
   "metadata": {},
   "source": [
    "## Batch distribution per panel"
   ]
  },
  {
   "cell_type": "markdown",
   "metadata": {},
   "source": [
    "#### convert batches into categories and clean"
   ]
  },
  {
   "cell_type": "code",
   "execution_count": null,
   "metadata": {},
   "outputs": [],
   "source": [
    "from pandas.api.types import CategoricalDtype\n",
    "batches = CategoricalDtype(categories=[\"oct\",\"nov\",\"dec\",\"g-2\",\"proto\",\"na\"], ordered=True)\n",
    "codes = {'10':'oct', '11':'nov', '12':'dec', '08':\"proto\", 'g2':'g-2', \"na\":'unknown'}"
   ]
  },
  {
   "cell_type": "code",
   "execution_count": null,
   "metadata": {},
   "outputs": [],
   "source": [
    "#final_df[final_df['number']==192][['position_number','rate']]\n",
    "#final_df[final_df['number'] == 173]"
   ]
  },
  {
   "cell_type": "code",
   "execution_count": null,
   "metadata": {},
   "outputs": [],
   "source": [
    "df2 = final_df.copy()\n",
    "# df2\n",
    "\n",
    "# list of all batch numbers\n",
    "# print(df2.batch.astype('category').unique().tolist())\n",
    "\n",
    "# clean up\n",
    "df2['batch'] = df2['batch'].replace('\\r\\n', nan)\n",
    "df2['batch'] = df2['batch'].replace('110917.B6\\r\\n', '110917B6')\n",
    "df2['batch'] = df2['batch'].replace('110717.B5\\r\\n', '110717B5')\n",
    "# print(df2.batch.astype('category').unique().tolist())\n",
    "\n",
    "# convert g-2:\n",
    "df2['batch'] = df2['batch'].replace('123456B1', 'g2')\n",
    "\n",
    "# parse just the first two digits\n",
    "df2['batch_parsed'] = df2['batch'].astype(str).str[:2].astype('category',Ordered=True)\n",
    "print(\"all batches:\\n\",df2.batch_parsed.unique())\n",
    "\n",
    "# map to a readable string\n",
    "df2['batch_cats'] = df2['batch_parsed'].map(codes)\n",
    "print(df2.batch_cats.unique())"
   ]
  },
  {
   "cell_type": "markdown",
   "metadata": {},
   "source": [
    "#### Straw Batch All Panels"
   ]
  },
  {
   "cell_type": "code",
   "execution_count": null,
   "metadata": {},
   "outputs": [],
   "source": [
    "fig, ax = plt.subplots(1, 1)\n",
    "\n",
    "# distribution of batches across all panels\n",
    "df2['batch_cats'].value_counts(sort=False).plot.bar(rot=0,figsize=(15,8))\n",
    "\n",
    "ax.set_ylabel(\"n straws\",fontsize=25)\n",
    "ax.set_xlabel(\"Batch\",fontsize=25)\n",
    "ax.set_title(f'Straw Batch All Panels (MN170 - MN230)',fontsize=25)\n",
    "fig.savefig(f\"batch_composition_all_straws.png\")\n",
    "\n",
    "plt.close(fig)"
   ]
  },
  {
   "cell_type": "markdown",
   "metadata": {},
   "source": [
    "#### Straw Batch Composition vs Panel"
   ]
  },
  {
   "cell_type": "code",
   "execution_count": null,
   "metadata": {},
   "outputs": [],
   "source": [
    "fig, ax = plt.subplots(1, 1)\n",
    "\n",
    "# distribution of batches vs panel\n",
    "df2.groupby(['number', 'batch_cats'])['batch_cats'].count().unstack().plot.bar(\n",
    "    stacked=True, \n",
    "    figsize=(15,8),\n",
    "    ax=ax,\n",
    ")\n",
    "\n",
    "# identical batches vs panel plot\n",
    "#pd.crosstab(index=df2['number'], columns=df2['batch_cats'], values=df2['number'], aggfunc='count').plot.bar(\n",
    "#        stacked=True,\n",
    "#        figsize=(15,8)\n",
    "#    )\n",
    "ax.set_ylim((0,130))\n",
    "ax.set_ylabel(\"N Straws\",fontsize=25)\n",
    "ax.set_xlabel(\"Panel\",fontsize=25)\n",
    "ax.set_title(f'Batch Composition by Panel (MN170 - MN230)',fontsize=25)\n",
    "fig.savefig(f\"batch_composition_by_panel.png\")\n",
    "\n",
    "plt.close(fig)"
   ]
  },
  {
   "cell_type": "markdown",
   "metadata": {},
   "source": [
    "## Paper pull composition by panel"
   ]
  },
  {
   "cell_type": "code",
   "execution_count": null,
   "metadata": {},
   "outputs": [],
   "source": [
    "#grades = CategoricalDtype(categories=[\"A\",\"B\",\"C\",\"nan\"], ordered=True)\n",
    "grade_codes = {'A':'A', 'B':'B', 'C':'C', 'nan':\"unknown\"}\n",
    "df2['ppg'] = df2['paper_pull_grade'].astype(str).astype('category',Ordered=True)\n",
    "df2['ppg'] = df2['ppg'].map(grade_codes)\n",
    "print(\"all grades:\\n\",df2.ppg.unique())"
   ]
  },
  {
   "cell_type": "markdown",
   "metadata": {},
   "source": [
    "#### ppg all panels"
   ]
  },
  {
   "cell_type": "code",
   "execution_count": null,
   "metadata": {},
   "outputs": [],
   "source": [
    "# all grades all panels\n",
    "fig, ax = plt.subplots(1, 1)\n",
    "\n",
    "# distribution of batches across all panels\n",
    "df2['ppg'].value_counts(sort=False).plot.bar(rot=0,figsize=(15,8))\n",
    "\n",
    "ax.set_ylabel(\"n straws\",fontsize=25)\n",
    "ax.set_xlabel(\"Paper Grade\",fontsize=25)\n",
    "ax.set_title(f'Straw Paper Grade All Panels (MN170 - MN230)',fontsize=25)\n",
    "fig.savefig(f\"ppg_composition_all_straws.png\")\n",
    "\n",
    "plt.close(fig)"
   ]
  },
  {
   "cell_type": "markdown",
   "metadata": {},
   "source": [
    "#### ppg composition vs panel"
   ]
  },
  {
   "cell_type": "code",
   "execution_count": null,
   "metadata": {},
   "outputs": [],
   "source": [
    "fig, ax = plt.subplots(1, 1)\n",
    "\n",
    "# distribution of batches vs panel\n",
    "df2.groupby(['number', 'ppg'])['ppg'].count().unstack().plot.bar(\n",
    "    stacked=True, \n",
    "    figsize=(15,8),\n",
    "    ax=ax,\n",
    ")\n",
    "\n",
    "# identical batches vs panel plot\n",
    "#pd.crosstab(index=df2['number'], columns=df2['batch_cats'], values=df2['number'], aggfunc='count').plot.bar(\n",
    "#        stacked=True,\n",
    "#        figsize=(15,8)\n",
    "#    )\n",
    "#ax.bar_label(ax.containers[0])\n",
    "ax.set_ylim((0,130))\n",
    "ax.set_ylabel(\"N Straws\",fontsize=25)\n",
    "ax.set_xlabel(\"Panel\",fontsize=25)\n",
    "ax.set_title(f'Paper Grade Composition by Panel (MN170 - MN230)',fontsize=25)\n",
    "fig.savefig(f\"ppg_composition_by_panel.png\")\n",
    "\n",
    "plt.close(fig)"
   ]
  },
  {
   "cell_type": "code",
   "execution_count": null,
   "metadata": {},
   "outputs": [],
   "source": []
  }
 ],
 "metadata": {
  "kernelspec": {
   "display_name": "Python 3",
   "language": "python",
   "name": "python3"
  },
  "language_info": {
   "codemirror_mode": {
    "name": "ipython",
    "version": 3
   },
   "file_extension": ".py",
   "mimetype": "text/x-python",
   "name": "python",
   "nbconvert_exporter": "python",
   "pygments_lexer": "ipython3",
   "version": "3.7.13"
  }
 },
 "nbformat": 4,
 "nbformat_minor": 2
}
